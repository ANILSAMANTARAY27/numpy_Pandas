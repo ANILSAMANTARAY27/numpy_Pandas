{
 "cells": [
  {
   "cell_type": "code",
   "execution_count": 1,
   "id": "c5f443b0",
   "metadata": {},
   "outputs": [],
   "source": [
    "import pandas as pd\n",
    "import numpy as np"
   ]
  },
  {
   "cell_type": "code",
   "execution_count": 3,
   "id": "74534f6f",
   "metadata": {},
   "outputs": [
    {
     "data": {
      "text/html": [
       "<div>\n",
       "<style scoped>\n",
       "    .dataframe tbody tr th:only-of-type {\n",
       "        vertical-align: middle;\n",
       "    }\n",
       "\n",
       "    .dataframe tbody tr th {\n",
       "        vertical-align: top;\n",
       "    }\n",
       "\n",
       "    .dataframe thead th {\n",
       "        text-align: right;\n",
       "    }\n",
       "</style>\n",
       "<table border=\"1\" class=\"dataframe\">\n",
       "  <thead>\n",
       "    <tr style=\"text-align: right;\">\n",
       "      <th></th>\n",
       "      <th>rank</th>\n",
       "      <th>name</th>\n",
       "      <th>net_worth_in_billion</th>\n",
       "      <th>age</th>\n",
       "      <th>country</th>\n",
       "      <th>source</th>\n",
       "      <th>industry</th>\n",
       "    </tr>\n",
       "  </thead>\n",
       "  <tbody>\n",
       "    <tr>\n",
       "      <th>0</th>\n",
       "      <td>1</td>\n",
       "      <td>Bernard Arnault &amp; family</td>\n",
       "      <td>211.0</td>\n",
       "      <td>74.0</td>\n",
       "      <td>France</td>\n",
       "      <td>LVMH</td>\n",
       "      <td>Fashion &amp; Retail</td>\n",
       "    </tr>\n",
       "    <tr>\n",
       "      <th>1</th>\n",
       "      <td>2</td>\n",
       "      <td>Elon Musk</td>\n",
       "      <td>180.0</td>\n",
       "      <td>51.0</td>\n",
       "      <td>United States</td>\n",
       "      <td>Tesla, SpaceX</td>\n",
       "      <td>Automotive</td>\n",
       "    </tr>\n",
       "    <tr>\n",
       "      <th>2</th>\n",
       "      <td>3</td>\n",
       "      <td>Jeff Bezos</td>\n",
       "      <td>114.0</td>\n",
       "      <td>59.0</td>\n",
       "      <td>United States</td>\n",
       "      <td>Amazon</td>\n",
       "      <td>Technology</td>\n",
       "    </tr>\n",
       "    <tr>\n",
       "      <th>3</th>\n",
       "      <td>4</td>\n",
       "      <td>Larry Ellison</td>\n",
       "      <td>107.0</td>\n",
       "      <td>78.0</td>\n",
       "      <td>United States</td>\n",
       "      <td>Oracle</td>\n",
       "      <td>Technology</td>\n",
       "    </tr>\n",
       "    <tr>\n",
       "      <th>4</th>\n",
       "      <td>5</td>\n",
       "      <td>Warren Buffett</td>\n",
       "      <td>106.0</td>\n",
       "      <td>92.0</td>\n",
       "      <td>United States</td>\n",
       "      <td>Berkshire Hathaway</td>\n",
       "      <td>Finance &amp; Investments</td>\n",
       "    </tr>\n",
       "    <tr>\n",
       "      <th>...</th>\n",
       "      <td>...</td>\n",
       "      <td>...</td>\n",
       "      <td>...</td>\n",
       "      <td>...</td>\n",
       "      <td>...</td>\n",
       "      <td>...</td>\n",
       "      <td>...</td>\n",
       "    </tr>\n",
       "    <tr>\n",
       "      <th>2650</th>\n",
       "      <td>2540</td>\n",
       "      <td>Danilo Iervolino</td>\n",
       "      <td>1.0</td>\n",
       "      <td>45.0</td>\n",
       "      <td>Italy</td>\n",
       "      <td>Online universities</td>\n",
       "      <td>Technology</td>\n",
       "    </tr>\n",
       "    <tr>\n",
       "      <th>2651</th>\n",
       "      <td>2540</td>\n",
       "      <td>Michael Kum</td>\n",
       "      <td>1.0</td>\n",
       "      <td>78.0</td>\n",
       "      <td>Singapore</td>\n",
       "      <td>Hotels</td>\n",
       "      <td>Real Estate</td>\n",
       "    </tr>\n",
       "    <tr>\n",
       "      <th>2652</th>\n",
       "      <td>2540</td>\n",
       "      <td>Scott Smith</td>\n",
       "      <td>1.0</td>\n",
       "      <td>73.0</td>\n",
       "      <td>United States</td>\n",
       "      <td>Cloud computing</td>\n",
       "      <td>Technology</td>\n",
       "    </tr>\n",
       "    <tr>\n",
       "      <th>2653</th>\n",
       "      <td>2540</td>\n",
       "      <td>Wen Pengcheng &amp; family</td>\n",
       "      <td>1.0</td>\n",
       "      <td>60.0</td>\n",
       "      <td>China</td>\n",
       "      <td>Agribusiness</td>\n",
       "      <td>Food &amp; Beverage</td>\n",
       "    </tr>\n",
       "    <tr>\n",
       "      <th>2654</th>\n",
       "      <td>2540</td>\n",
       "      <td>Neerja Sethi</td>\n",
       "      <td>1.0</td>\n",
       "      <td>68.0</td>\n",
       "      <td>United States</td>\n",
       "      <td>IT consulting, outsourcing</td>\n",
       "      <td>Technology</td>\n",
       "    </tr>\n",
       "  </tbody>\n",
       "</table>\n",
       "<p>2655 rows × 7 columns</p>\n",
       "</div>"
      ],
      "text/plain": [
       "      rank                      name  net_worth_in_billion   age   \n",
       "0        1  Bernard Arnault & family                 211.0  74.0  \\\n",
       "1        2                 Elon Musk                 180.0  51.0   \n",
       "2        3                Jeff Bezos                 114.0  59.0   \n",
       "3        4             Larry Ellison                 107.0  78.0   \n",
       "4        5            Warren Buffett                 106.0  92.0   \n",
       "...    ...                       ...                   ...   ...   \n",
       "2650  2540          Danilo Iervolino                   1.0  45.0   \n",
       "2651  2540               Michael Kum                   1.0  78.0   \n",
       "2652  2540               Scott Smith                   1.0  73.0   \n",
       "2653  2540    Wen Pengcheng & family                   1.0  60.0   \n",
       "2654  2540              Neerja Sethi                   1.0  68.0   \n",
       "\n",
       "            country                      source               industry  \n",
       "0            France                        LVMH       Fashion & Retail  \n",
       "1     United States               Tesla, SpaceX             Automotive  \n",
       "2     United States                      Amazon             Technology  \n",
       "3     United States                      Oracle             Technology  \n",
       "4     United States          Berkshire Hathaway  Finance & Investments  \n",
       "...             ...                         ...                    ...  \n",
       "2650          Italy         Online universities             Technology  \n",
       "2651      Singapore                      Hotels            Real Estate  \n",
       "2652  United States             Cloud computing             Technology  \n",
       "2653          China                Agribusiness        Food & Beverage  \n",
       "2654  United States  IT consulting, outsourcing             Technology  \n",
       "\n",
       "[2655 rows x 7 columns]"
      ]
     },
     "execution_count": 3,
     "metadata": {},
     "output_type": "execute_result"
    }
   ],
   "source": [
    "df_bln=pd.read_csv('F:\\\\d_data\\\\New folder\\\\forbes billionaire list cleaned.csv')\n",
    "df_bln"
   ]
  },
  {
   "cell_type": "code",
   "execution_count": 5,
   "id": "d590c481",
   "metadata": {},
   "outputs": [],
   "source": [
    "c=df_bln.copy()"
   ]
  },
  {
   "cell_type": "markdown",
   "id": "246f3362",
   "metadata": {},
   "source": [
    "#  1.What is the total net worth of all individuals in the dataset?\n"
   ]
  },
  {
   "cell_type": "code",
   "execution_count": 7,
   "id": "da35b596",
   "metadata": {},
   "outputs": [
    {
     "data": {
      "text/plain": [
       "12221.8"
      ]
     },
     "execution_count": 7,
     "metadata": {},
     "output_type": "execute_result"
    }
   ],
   "source": [
    "df_bln['net_worth_in_billion'].sum()"
   ]
  },
  {
   "cell_type": "markdown",
   "id": "37bd7564",
   "metadata": {},
   "source": [
    "# 2.What is the average age of individuals in the dataset?"
   ]
  },
  {
   "cell_type": "code",
   "execution_count": 9,
   "id": "59abf695",
   "metadata": {},
   "outputs": [
    {
     "data": {
      "text/plain": [
       "65.12944358578052"
      ]
     },
     "execution_count": 9,
     "metadata": {},
     "output_type": "execute_result"
    }
   ],
   "source": [
    "df_bln['age'].mean()"
   ]
  },
  {
   "cell_type": "markdown",
   "id": "c1a59edf",
   "metadata": {},
   "source": [
    "# 3.How many individuals are there from each country in the dataset?"
   ]
  },
  {
   "cell_type": "code",
   "execution_count": 55,
   "id": "1bdd1d65",
   "metadata": {
    "scrolled": true
   },
   "outputs": [
    {
     "data": {
      "text/plain": [
       "country\n",
       "United States    739\n",
       "China            497\n",
       "India            169\n",
       "Germany          128\n",
       "Russia           106\n",
       "                ... \n",
       "Belize             1\n",
       "Barbados           1\n",
       "Bangladesh         1\n",
       "Armenia            1\n",
       "Zimbabwe           1\n",
       "Name: count, Length: 77, dtype: int64"
      ]
     },
     "execution_count": 55,
     "metadata": {},
     "output_type": "execute_result"
    }
   ],
   "source": [
    "df_bln.groupby('country')['country'].value_counts().sort_values(ascending=False)"
   ]
  },
  {
   "cell_type": "markdown",
   "id": "4f172a4c",
   "metadata": {},
   "source": [
    "# 4.What is the maximum net worth of individuals in each industry in the dataset?"
   ]
  },
  {
   "cell_type": "code",
   "execution_count": 33,
   "id": "fadbfb8d",
   "metadata": {
    "scrolled": false
   },
   "outputs": [
    {
     "data": {
      "text/plain": [
       "industry\n",
       "Automotive                    180.0\n",
       "Construction & Engineering     13.7\n",
       "Diversified                    83.4\n",
       "Energy                         25.5\n",
       "Fashion & Retail              211.0\n",
       "Finance & Investments         106.0\n",
       "Food & Beverage                68.0\n",
       "Gambling & Casinos             35.0\n",
       "Healthcare                     22.6\n",
       "Logistics                      39.1\n",
       "Manufacturing                  29.7\n",
       "Media & Entertainment          94.5\n",
       "Metals & Mining                27.0\n",
       "Real Estate                    29.5\n",
       "Service                        21.2\n",
       "Sports                         13.3\n",
       "Technology                    114.0\n",
       "Telecom                        93.0\n",
       "Name: net_worth_in_billion, dtype: float64"
      ]
     },
     "execution_count": 33,
     "metadata": {},
     "output_type": "execute_result"
    }
   ],
   "source": [
    "df_bln.groupby('industry')['net_worth_in_billion'].max()"
   ]
  },
  {
   "cell_type": "code",
   "execution_count": 34,
   "id": "20641e81",
   "metadata": {},
   "outputs": [
    {
     "data": {
      "text/plain": [
       "industry\n",
       "Automotive                    1.0\n",
       "Construction & Engineering    1.0\n",
       "Diversified                   1.0\n",
       "Energy                        1.0\n",
       "Fashion & Retail              1.0\n",
       "Finance & Investments         1.0\n",
       "Food & Beverage               1.0\n",
       "Gambling & Casinos            1.0\n",
       "Healthcare                    1.0\n",
       "Logistics                     1.0\n",
       "Manufacturing                 1.0\n",
       "Media & Entertainment         1.0\n",
       "Metals & Mining               1.1\n",
       "Real Estate                   1.0\n",
       "Service                       1.0\n",
       "Sports                        1.0\n",
       "Technology                    1.0\n",
       "Telecom                       1.0\n",
       "Name: net_worth_in_billion, dtype: float64"
      ]
     },
     "execution_count": 34,
     "metadata": {},
     "output_type": "execute_result"
    }
   ],
   "source": [
    "df_bln.groupby('industry')['net_worth_in_billion'].min()"
   ]
  },
  {
   "cell_type": "markdown",
   "id": "05ce6e8c",
   "metadata": {},
   "source": [
    "# 5.What is the minimum age of individuals in each source in the dataset?"
   ]
  },
  {
   "cell_type": "code",
   "execution_count": 45,
   "id": "4ab31ef2",
   "metadata": {
    "scrolled": true
   },
   "outputs": [
    {
     "data": {
      "text/plain": [
       "source\n",
       "Education                        43.0\n",
       "Education technology             41.0\n",
       "Electric bikes, scooters         54.0\n",
       "Electric power                   74.0\n",
       "Electric scooters                50.0\n",
       "Electric vehicles                41.0\n",
       "Electrical appliances            72.0\n",
       "Electrical equipment             56.0\n",
       "Electrodes                       55.0\n",
       "Electronic components            55.0\n",
       "Electronic trading               67.0\n",
       "Electronics                      40.0\n",
       "Electronics components           55.0\n",
       "Elevators, escalators            36.0\n",
       "Email marketing                  48.0\n",
       "Energy                           57.0\n",
       "Energy drink                     83.0\n",
       "Energy drinks                    52.0\n",
       "Energy drinks,investments        49.0\n",
       "Energy services                  76.0\n",
       "Energy, banking, construction    65.0\n",
       "Energy, chemicals                69.0\n",
       "Energy, investments              47.0\n",
       "Energy, real estate              61.0\n",
       "Energy, sports                   86.0\n",
       "Energy, sports, entertainment    83.0\n",
       "Engineering                      70.0\n",
       "Engineering, automotive          71.0\n",
       "Engineering, construction        71.0\n",
       "Engineering, sugar               78.0\n",
       "Entertainment                    50.0\n",
       "Entertainment, Margaritaville    76.0\n",
       "Estee Lauder                     52.0\n",
       "Estée Lauder                     50.0\n",
       "Executive search, investments    70.0\n",
       "Express delivery                 53.0\n",
       "Eyeglases                        18.0\n",
       "Eyeglasses                       21.0\n",
       "FIAT, investments                47.0\n",
       "Facebook                         38.0\n",
       "Facebook, investments            55.0\n",
       "Fashion                          61.0\n",
       "Fashion investments              63.0\n",
       "Fashion retail                   50.0\n",
       "Fashion retail, investments      49.0\n",
       "Fashion retailer                 97.0\n",
       "Fast fashion                     41.0\n",
       "Fast food                        75.0\n",
       "Fasteners                        87.0\n",
       "FedEx                            78.0\n",
       "Feed                              NaN\n",
       "Fertilizer                       56.0\n",
       "Fertilizer, real estate          69.0\n",
       "Fertilizers                      63.0\n",
       "Fertilizers, coal                51.0\n",
       "Fiber optic cables               60.0\n",
       "Fidelity                         58.0\n",
       "Finance                          49.0\n",
       "Finance and investments          71.0\n",
       "Finance services                 63.0\n",
       "Name: age, dtype: float64"
      ]
     },
     "execution_count": 45,
     "metadata": {},
     "output_type": "execute_result"
    }
   ],
   "source": [
    "df_bln.groupby('source')['age'].min().iloc[240:300]"
   ]
  },
  {
   "cell_type": "code",
   "execution_count": 39,
   "id": "6e6508be",
   "metadata": {},
   "outputs": [
    {
     "data": {
      "text/plain": [
       "source\n",
       "3D printing                  71.0\n",
       "AOL                          64.0\n",
       "Accounting services          82.0\n",
       "Acoustic components          56.0\n",
       "Adhesives                    84.0\n",
       "                             ... \n",
       "Yahoo                        56.0\n",
       "Zara                         87.0\n",
       "Zoom Video Communications    53.0\n",
       "cosmetics                    82.0\n",
       "electronics                  49.0\n",
       "Name: age, Length: 899, dtype: float64"
      ]
     },
     "execution_count": 39,
     "metadata": {},
     "output_type": "execute_result"
    }
   ],
   "source": [
    "df_bln.groupby('source')['age'].max()"
   ]
  },
  {
   "cell_type": "markdown",
   "id": "e8b9f952",
   "metadata": {},
   "source": [
    "# 6.Who are the top 10 individuals by net worth in the dataset?\n"
   ]
  },
  {
   "cell_type": "code",
   "execution_count": 49,
   "id": "c598d1e5",
   "metadata": {},
   "outputs": [
    {
     "data": {
      "text/html": [
       "<div>\n",
       "<style scoped>\n",
       "    .dataframe tbody tr th:only-of-type {\n",
       "        vertical-align: middle;\n",
       "    }\n",
       "\n",
       "    .dataframe tbody tr th {\n",
       "        vertical-align: top;\n",
       "    }\n",
       "\n",
       "    .dataframe thead th {\n",
       "        text-align: right;\n",
       "    }\n",
       "</style>\n",
       "<table border=\"1\" class=\"dataframe\">\n",
       "  <thead>\n",
       "    <tr style=\"text-align: right;\">\n",
       "      <th></th>\n",
       "      <th>name</th>\n",
       "      <th>net_worth_in_billion</th>\n",
       "    </tr>\n",
       "  </thead>\n",
       "  <tbody>\n",
       "    <tr>\n",
       "      <th>0</th>\n",
       "      <td>Bernard Arnault &amp; family</td>\n",
       "      <td>211.0</td>\n",
       "    </tr>\n",
       "    <tr>\n",
       "      <th>1</th>\n",
       "      <td>Elon Musk</td>\n",
       "      <td>180.0</td>\n",
       "    </tr>\n",
       "    <tr>\n",
       "      <th>2</th>\n",
       "      <td>Jeff Bezos</td>\n",
       "      <td>114.0</td>\n",
       "    </tr>\n",
       "    <tr>\n",
       "      <th>3</th>\n",
       "      <td>Larry Ellison</td>\n",
       "      <td>107.0</td>\n",
       "    </tr>\n",
       "    <tr>\n",
       "      <th>4</th>\n",
       "      <td>Warren Buffett</td>\n",
       "      <td>106.0</td>\n",
       "    </tr>\n",
       "    <tr>\n",
       "      <th>5</th>\n",
       "      <td>Bill Gates</td>\n",
       "      <td>104.0</td>\n",
       "    </tr>\n",
       "    <tr>\n",
       "      <th>6</th>\n",
       "      <td>Michael Bloomberg</td>\n",
       "      <td>94.5</td>\n",
       "    </tr>\n",
       "    <tr>\n",
       "      <th>7</th>\n",
       "      <td>Carlos Slim Helu &amp; family</td>\n",
       "      <td>93.0</td>\n",
       "    </tr>\n",
       "    <tr>\n",
       "      <th>8</th>\n",
       "      <td>Mukesh Ambani</td>\n",
       "      <td>83.4</td>\n",
       "    </tr>\n",
       "    <tr>\n",
       "      <th>9</th>\n",
       "      <td>Steve Ballmer</td>\n",
       "      <td>80.7</td>\n",
       "    </tr>\n",
       "  </tbody>\n",
       "</table>\n",
       "</div>"
      ],
      "text/plain": [
       "                        name  net_worth_in_billion\n",
       "0   Bernard Arnault & family                 211.0\n",
       "1                  Elon Musk                 180.0\n",
       "2                 Jeff Bezos                 114.0\n",
       "3              Larry Ellison                 107.0\n",
       "4             Warren Buffett                 106.0\n",
       "5                 Bill Gates                 104.0\n",
       "6          Michael Bloomberg                  94.5\n",
       "7  Carlos Slim Helu & family                  93.0\n",
       "8              Mukesh Ambani                  83.4\n",
       "9              Steve Ballmer                  80.7"
      ]
     },
     "execution_count": 49,
     "metadata": {},
     "output_type": "execute_result"
    }
   ],
   "source": [
    "df_bln[['name', 'net_worth_in_billion']].head(10)"
   ]
  },
  {
   "cell_type": "markdown",
   "id": "678c7e4a",
   "metadata": {},
   "source": [
    "# 7.What is the median net worth of individuals in each country in the dataset?\n"
   ]
  },
  {
   "cell_type": "code",
   "execution_count": 53,
   "id": "9023e8e6",
   "metadata": {},
   "outputs": [
    {
     "data": {
      "text/plain": [
       "country\n",
       "Nigeria                 8.2\n",
       "Denmark                 6.7\n",
       "Eswatini (Swaziland)    6.5\n",
       "Portugal                4.7\n",
       "Algeria                 4.6\n",
       "                       ... \n",
       "Macau                   1.3\n",
       "Hungary                 1.2\n",
       "Armenia                 1.2\n",
       "Panama                  1.0\n",
       "Bangladesh              1.0\n",
       "Name: net_worth_in_billion, Length: 77, dtype: float64"
      ]
     },
     "execution_count": 53,
     "metadata": {},
     "output_type": "execute_result"
    }
   ],
   "source": [
    "df_bln.groupby('country')['net_worth_in_billion'].median().sort_values(ascending=False)"
   ]
  },
  {
   "cell_type": "markdown",
   "id": "4f7cb68f",
   "metadata": {},
   "source": [
    "# 8.How many individuals in the dataset are under the age of 30?\n"
   ]
  },
  {
   "cell_type": "code",
   "execution_count": 64,
   "id": "758534e5",
   "metadata": {},
   "outputs": [
    {
     "data": {
      "text/plain": [
       "11"
      ]
     },
     "execution_count": 64,
     "metadata": {},
     "output_type": "execute_result"
    }
   ],
   "source": [
    "df_bln[df_bln['age']<30]['name'].value_counts().sum()"
   ]
  },
  {
   "cell_type": "code",
   "execution_count": 70,
   "id": "3816b877",
   "metadata": {},
   "outputs": [
    {
     "data": {
      "text/plain": [
       "917"
      ]
     },
     "execution_count": 70,
     "metadata": {},
     "output_type": "execute_result"
    }
   ],
   "source": [
    "df_bln[df_bln['age']>70]['name'].value_counts().sum()"
   ]
  },
  {
   "cell_type": "markdown",
   "id": "f54ffb00",
   "metadata": {},
   "source": [
    "# 9.What is the average net worth of individuals in each industry in the dataset?\n"
   ]
  },
  {
   "cell_type": "code",
   "execution_count": 71,
   "id": "e516f0bc",
   "metadata": {},
   "outputs": [
    {
     "data": {
      "text/plain": [
       "industry\n",
       "Automotive                    7.195890\n",
       "Construction & Engineering    2.597826\n",
       "Diversified                   4.840642\n",
       "Energy                        4.500000\n",
       "Fashion & Retail              6.366292\n",
       "Finance & Investments         4.305898\n",
       "Food & Beverage               4.498592\n",
       "Gambling & Casinos            4.820000\n",
       "Healthcare                    3.200000\n",
       "Logistics                     5.987500\n",
       "Manufacturing                 3.118902\n",
       "Media & Entertainment         4.618280\n",
       "Metals & Mining               6.037838\n",
       "Real Estate                   3.406218\n",
       "Service                       3.271698\n",
       "Sports                        3.582500\n",
       "Technology                    5.908833\n",
       "Telecom                       6.564516\n",
       "Name: net_worth_in_billion, dtype: float64"
      ]
     },
     "execution_count": 71,
     "metadata": {},
     "output_type": "execute_result"
    }
   ],
   "source": [
    "df_bln.groupby('industry')['net_worth_in_billion'].mean()"
   ]
  },
  {
   "cell_type": "markdown",
   "id": "d2518677",
   "metadata": {},
   "source": [
    "# 10.What is the most common source of wealth for individuals in the dataset?"
   ]
  },
  {
   "cell_type": "code",
   "execution_count": 83,
   "id": "fc3c3f22",
   "metadata": {
    "scrolled": false
   },
   "outputs": [
    {
     "data": {
      "image/png": "[encoded data removed]",
      "text/plain": [
       "<Figure size 1000x600 with 1 Axes>"
      ]
     },
     "metadata": {},
     "output_type": "display_data"
    }
   ],
   "source": [
    "import pandas as pd\n",
    "import matplotlib.pyplot as plt\n",
    "\n",
    "fig, ax = plt.subplots(figsize=(10, 6))\n",
    "# Create a histogram of net worth values\n",
    "df_bln['net_worth_in_billion'].hist(bins=20,ax=ax)\n",
    "\n",
    "ax.set_yscale('log')\n",
    "# Add labels and a title to the plot\n",
    "plt.xlabel('net_worth_in_billion')\n",
    "plt.ylabel('Count')\n",
    "plt.title('Distribution of Net Worth Values')\n",
    "\n",
    "# Display the plot\n",
    "plt.show()"
   ]
  },
  {
   "cell_type": "code",
   "execution_count": 84,
   "id": "4ea22c88",
   "metadata": {},
   "outputs": [
    {
     "name": "stdout",
     "output_type": "stream",
     "text": [
      "Correlation between age and net worth: 0.06701680518417842\n"
     ]
    }
   ],
   "source": [
    "correlation = df_bln['age'].corr(df_bln['net_worth_in_billion'], method='pearson')\n",
    "\n",
    "# Print the correlation coefficient\n",
    "print('Correlation between age and net worth:', correlation)"
   ]
  },
  {
   "cell_type": "code",
   "execution_count": 85,
   "id": "2b072f86",
   "metadata": {},
   "outputs": [
    {
     "data": {
      "text/plain": [
       "<Axes: xlabel='age', ylabel='net_worth_in_billion'>"
      ]
     },
     "execution_count": 85,
     "metadata": {},
     "output_type": "execute_result"
    },
    {
     "data": {
      "image/png": "[encoded data removed]",
      "text/plain": [
       "<Figure size 640x480 with 1 Axes>"
      ]
     },
     "metadata": {},
     "output_type": "display_data"
    }
   ],
   "source": [
    "df_bln.plot(kind='scatter', x='age', y='net_worth_in_billion')\n"
   ]
  },
  {
   "cell_type": "code",
   "execution_count": 95,
   "id": "2dd6202d",
   "metadata": {},
   "outputs": [
    {
     "data": {
      "text/plain": [
       "17"
      ]
     },
     "execution_count": 95,
     "metadata": {},
     "output_type": "execute_result"
    }
   ],
   "source": [
    "name_counts = df_bln['name'].value_counts()\n",
    "name_counts\n",
    "# Count the number of names that appear more than once\n",
    "duplicate_names = name_counts > 1\n",
    "duplicate_names[duplicate_names].sum()"
   ]
  },
  {
   "cell_type": "code",
   "execution_count": 100,
   "id": "e7f088f1",
   "metadata": {},
   "outputs": [
    {
     "data": {
      "text/html": [
       "<div>\n",
       "<style scoped>\n",
       "    .dataframe tbody tr th:only-of-type {\n",
       "        vertical-align: middle;\n",
       "    }\n",
       "\n",
       "    .dataframe tbody tr th {\n",
       "        vertical-align: top;\n",
       "    }\n",
       "\n",
       "    .dataframe thead th {\n",
       "        text-align: right;\n",
       "    }\n",
       "</style>\n",
       "<table border=\"1\" class=\"dataframe\">\n",
       "  <thead>\n",
       "    <tr style=\"text-align: right;\">\n",
       "      <th></th>\n",
       "      <th>count</th>\n",
       "      <th>mean</th>\n",
       "      <th>std</th>\n",
       "      <th>min</th>\n",
       "      <th>25%</th>\n",
       "      <th>50%</th>\n",
       "      <th>75%</th>\n",
       "      <th>max</th>\n",
       "    </tr>\n",
       "    <tr>\n",
       "      <th>industry</th>\n",
       "      <th></th>\n",
       "      <th></th>\n",
       "      <th></th>\n",
       "      <th></th>\n",
       "      <th></th>\n",
       "      <th></th>\n",
       "      <th></th>\n",
       "      <th></th>\n",
       "    </tr>\n",
       "  </thead>\n",
       "  <tbody>\n",
       "    <tr>\n",
       "      <th>Automotive</th>\n",
       "      <td>73.0</td>\n",
       "      <td>7.195890</td>\n",
       "      <td>21.467025</td>\n",
       "      <td>1.0</td>\n",
       "      <td>1.500</td>\n",
       "      <td>2.60</td>\n",
       "      <td>4.000</td>\n",
       "      <td>180.0</td>\n",
       "    </tr>\n",
       "    <tr>\n",
       "      <th>Construction &amp; Engineering</th>\n",
       "      <td>46.0</td>\n",
       "      <td>2.597826</td>\n",
       "      <td>2.165537</td>\n",
       "      <td>1.0</td>\n",
       "      <td>1.325</td>\n",
       "      <td>2.10</td>\n",
       "      <td>2.675</td>\n",
       "      <td>13.7</td>\n",
       "    </tr>\n",
       "    <tr>\n",
       "      <th>Diversified</th>\n",
       "      <td>187.0</td>\n",
       "      <td>4.840642</td>\n",
       "      <td>9.722922</td>\n",
       "      <td>1.0</td>\n",
       "      <td>1.500</td>\n",
       "      <td>2.30</td>\n",
       "      <td>3.950</td>\n",
       "      <td>83.4</td>\n",
       "    </tr>\n",
       "    <tr>\n",
       "      <th>Energy</th>\n",
       "      <td>101.0</td>\n",
       "      <td>4.500000</td>\n",
       "      <td>4.789906</td>\n",
       "      <td>1.0</td>\n",
       "      <td>1.600</td>\n",
       "      <td>2.40</td>\n",
       "      <td>6.300</td>\n",
       "      <td>25.5</td>\n",
       "    </tr>\n",
       "    <tr>\n",
       "      <th>Fashion &amp; Retail</th>\n",
       "      <td>267.0</td>\n",
       "      <td>6.366292</td>\n",
       "      <td>16.356636</td>\n",
       "      <td>1.0</td>\n",
       "      <td>1.600</td>\n",
       "      <td>2.50</td>\n",
       "      <td>4.800</td>\n",
       "      <td>211.0</td>\n",
       "    </tr>\n",
       "    <tr>\n",
       "      <th>Finance &amp; Investments</th>\n",
       "      <td>373.0</td>\n",
       "      <td>4.305898</td>\n",
       "      <td>6.920265</td>\n",
       "      <td>1.0</td>\n",
       "      <td>1.500</td>\n",
       "      <td>2.60</td>\n",
       "      <td>4.600</td>\n",
       "      <td>106.0</td>\n",
       "    </tr>\n",
       "    <tr>\n",
       "      <th>Food &amp; Beverage</th>\n",
       "      <td>213.0</td>\n",
       "      <td>4.498592</td>\n",
       "      <td>7.145308</td>\n",
       "      <td>1.0</td>\n",
       "      <td>1.500</td>\n",
       "      <td>2.50</td>\n",
       "      <td>4.300</td>\n",
       "      <td>68.0</td>\n",
       "    </tr>\n",
       "    <tr>\n",
       "      <th>Gambling &amp; Casinos</th>\n",
       "      <td>25.0</td>\n",
       "      <td>4.820000</td>\n",
       "      <td>6.943462</td>\n",
       "      <td>1.0</td>\n",
       "      <td>1.500</td>\n",
       "      <td>2.80</td>\n",
       "      <td>5.200</td>\n",
       "      <td>35.0</td>\n",
       "    </tr>\n",
       "    <tr>\n",
       "      <th>Healthcare</th>\n",
       "      <td>201.0</td>\n",
       "      <td>3.200000</td>\n",
       "      <td>3.274385</td>\n",
       "      <td>1.0</td>\n",
       "      <td>1.300</td>\n",
       "      <td>2.10</td>\n",
       "      <td>3.500</td>\n",
       "      <td>22.6</td>\n",
       "    </tr>\n",
       "    <tr>\n",
       "      <th>Logistics</th>\n",
       "      <td>40.0</td>\n",
       "      <td>5.987500</td>\n",
       "      <td>8.611417</td>\n",
       "      <td>1.0</td>\n",
       "      <td>1.500</td>\n",
       "      <td>3.00</td>\n",
       "      <td>5.625</td>\n",
       "      <td>39.1</td>\n",
       "    </tr>\n",
       "    <tr>\n",
       "      <th>Manufacturing</th>\n",
       "      <td>328.0</td>\n",
       "      <td>3.118902</td>\n",
       "      <td>3.453263</td>\n",
       "      <td>1.0</td>\n",
       "      <td>1.300</td>\n",
       "      <td>1.95</td>\n",
       "      <td>3.300</td>\n",
       "      <td>29.7</td>\n",
       "    </tr>\n",
       "    <tr>\n",
       "      <th>Media &amp; Entertainment</th>\n",
       "      <td>93.0</td>\n",
       "      <td>4.618280</td>\n",
       "      <td>11.105648</td>\n",
       "      <td>1.0</td>\n",
       "      <td>1.500</td>\n",
       "      <td>2.40</td>\n",
       "      <td>4.000</td>\n",
       "      <td>94.5</td>\n",
       "    </tr>\n",
       "    <tr>\n",
       "      <th>Metals &amp; Mining</th>\n",
       "      <td>74.0</td>\n",
       "      <td>6.037838</td>\n",
       "      <td>7.301130</td>\n",
       "      <td>1.1</td>\n",
       "      <td>1.600</td>\n",
       "      <td>2.60</td>\n",
       "      <td>6.975</td>\n",
       "      <td>27.0</td>\n",
       "    </tr>\n",
       "    <tr>\n",
       "      <th>Real Estate</th>\n",
       "      <td>193.0</td>\n",
       "      <td>3.406218</td>\n",
       "      <td>3.359217</td>\n",
       "      <td>1.0</td>\n",
       "      <td>1.500</td>\n",
       "      <td>2.30</td>\n",
       "      <td>3.700</td>\n",
       "      <td>29.5</td>\n",
       "    </tr>\n",
       "    <tr>\n",
       "      <th>Service</th>\n",
       "      <td>53.0</td>\n",
       "      <td>3.271698</td>\n",
       "      <td>3.166980</td>\n",
       "      <td>1.0</td>\n",
       "      <td>1.400</td>\n",
       "      <td>2.60</td>\n",
       "      <td>4.100</td>\n",
       "      <td>21.2</td>\n",
       "    </tr>\n",
       "    <tr>\n",
       "      <th>Sports</th>\n",
       "      <td>40.0</td>\n",
       "      <td>3.582500</td>\n",
       "      <td>3.118998</td>\n",
       "      <td>1.0</td>\n",
       "      <td>1.675</td>\n",
       "      <td>2.15</td>\n",
       "      <td>4.475</td>\n",
       "      <td>13.3</td>\n",
       "    </tr>\n",
       "    <tr>\n",
       "      <th>Technology</th>\n",
       "      <td>317.0</td>\n",
       "      <td>5.908833</td>\n",
       "      <td>13.983932</td>\n",
       "      <td>1.0</td>\n",
       "      <td>1.500</td>\n",
       "      <td>2.20</td>\n",
       "      <td>4.500</td>\n",
       "      <td>114.0</td>\n",
       "    </tr>\n",
       "    <tr>\n",
       "      <th>Telecom</th>\n",
       "      <td>31.0</td>\n",
       "      <td>6.564516</td>\n",
       "      <td>16.513379</td>\n",
       "      <td>1.0</td>\n",
       "      <td>1.500</td>\n",
       "      <td>2.80</td>\n",
       "      <td>4.450</td>\n",
       "      <td>93.0</td>\n",
       "    </tr>\n",
       "  </tbody>\n",
       "</table>\n",
       "</div>"
      ],
      "text/plain": [
       "                            count      mean        std  min    25%   50%   \n",
       "industry                                                                   \n",
       "Automotive                   73.0  7.195890  21.467025  1.0  1.500  2.60  \\\n",
       "Construction & Engineering   46.0  2.597826   2.165537  1.0  1.325  2.10   \n",
       "Diversified                 187.0  4.840642   9.722922  1.0  1.500  2.30   \n",
       "Energy                      101.0  4.500000   4.789906  1.0  1.600  2.40   \n",
       "Fashion & Retail            267.0  6.366292  16.356636  1.0  1.600  2.50   \n",
       "Finance & Investments       373.0  4.305898   6.920265  1.0  1.500  2.60   \n",
       "Food & Beverage             213.0  4.498592   7.145308  1.0  1.500  2.50   \n",
       "Gambling & Casinos           25.0  4.820000   6.943462  1.0  1.500  2.80   \n",
       "Healthcare                  201.0  3.200000   3.274385  1.0  1.300  2.10   \n",
       "Logistics                    40.0  5.987500   8.611417  1.0  1.500  3.00   \n",
       "Manufacturing               328.0  3.118902   3.453263  1.0  1.300  1.95   \n",
       "Media & Entertainment        93.0  4.618280  11.105648  1.0  1.500  2.40   \n",
       "Metals & Mining              74.0  6.037838   7.301130  1.1  1.600  2.60   \n",
       "Real Estate                 193.0  3.406218   3.359217  1.0  1.500  2.30   \n",
       "Service                      53.0  3.271698   3.166980  1.0  1.400  2.60   \n",
       "Sports                       40.0  3.582500   3.118998  1.0  1.675  2.15   \n",
       "Technology                  317.0  5.908833  13.983932  1.0  1.500  2.20   \n",
       "Telecom                      31.0  6.564516  16.513379  1.0  1.500  2.80   \n",
       "\n",
       "                              75%    max  \n",
       "industry                                  \n",
       "Automotive                  4.000  180.0  \n",
       "Construction & Engineering  2.675   13.7  \n",
       "Diversified                 3.950   83.4  \n",
       "Energy                      6.300   25.5  \n",
       "Fashion & Retail            4.800  211.0  \n",
       "Finance & Investments       4.600  106.0  \n",
       "Food & Beverage             4.300   68.0  \n",
       "Gambling & Casinos          5.200   35.0  \n",
       "Healthcare                  3.500   22.6  \n",
       "Logistics                   5.625   39.1  \n",
       "Manufacturing               3.300   29.7  \n",
       "Media & Entertainment       4.000   94.5  \n",
       "Metals & Mining             6.975   27.0  \n",
       "Real Estate                 3.700   29.5  \n",
       "Service                     4.100   21.2  \n",
       "Sports                      4.475   13.3  \n",
       "Technology                  4.500  114.0  \n",
       "Telecom                     4.450   93.0  "
      ]
     },
     "execution_count": 100,
     "metadata": {},
     "output_type": "execute_result"
    }
   ],
   "source": [
    "df_bln.groupby('industry')['net_worth_in_billion'].describe()"
   ]
  },
  {
   "cell_type": "code",
   "execution_count": 104,
   "id": "a04c5910",
   "metadata": {
    "scrolled": true
   },
   "outputs": [
    {
     "data": {
      "text/plain": [
       "country    industry             \n",
       "Algeria    Food & Beverage          1\n",
       "Argentina  Diversified              1\n",
       "           Energy                   2\n",
       "           Real Estate              1\n",
       "           Technology               1\n",
       "                                   ..\n",
       "Vietnam    Diversified              2\n",
       "           Finance & Investments    1\n",
       "           Food & Beverage          1\n",
       "           Manufacturing            1\n",
       "Zimbabwe   Telecom                  1\n",
       "Name: industry, Length: 447, dtype: int64"
      ]
     },
     "execution_count": 104,
     "metadata": {},
     "output_type": "execute_result"
    }
   ],
   "source": [
    "industry_counts = df_bln.groupby(['country', 'industry'])['industry'].count()\n",
    "industry_counts\n",
    "\n",
    "# Find the index of the maximum value for each country\n",
    "#max_industries = industry_counts.groupby('country').idxmax()\n",
    "#max_industries"
   ]
  },
  {
   "cell_type": "code",
   "execution_count": 120,
   "id": "a3ea582f",
   "metadata": {},
   "outputs": [
    {
     "data": {
      "text/html": [
       "<div>\n",
       "<style scoped>\n",
       "    .dataframe tbody tr th:only-of-type {\n",
       "        vertical-align: middle;\n",
       "    }\n",
       "\n",
       "    .dataframe tbody tr th {\n",
       "        vertical-align: top;\n",
       "    }\n",
       "\n",
       "    .dataframe thead th {\n",
       "        text-align: right;\n",
       "    }\n",
       "</style>\n",
       "<table border=\"1\" class=\"dataframe\">\n",
       "  <thead>\n",
       "    <tr style=\"text-align: right;\">\n",
       "      <th></th>\n",
       "      <th>name</th>\n",
       "      <th>net_worth_in_billion</th>\n",
       "      <th>country</th>\n",
       "      <th>industry</th>\n",
       "    </tr>\n",
       "  </thead>\n",
       "  <tbody>\n",
       "    <tr>\n",
       "      <th>2</th>\n",
       "      <td>Jeff Bezos</td>\n",
       "      <td>114.0</td>\n",
       "      <td>United States</td>\n",
       "      <td>Technology</td>\n",
       "    </tr>\n",
       "    <tr>\n",
       "      <th>3</th>\n",
       "      <td>Larry Ellison</td>\n",
       "      <td>107.0</td>\n",
       "      <td>United States</td>\n",
       "      <td>Technology</td>\n",
       "    </tr>\n",
       "    <tr>\n",
       "      <th>5</th>\n",
       "      <td>Bill Gates</td>\n",
       "      <td>104.0</td>\n",
       "      <td>United States</td>\n",
       "      <td>Technology</td>\n",
       "    </tr>\n",
       "    <tr>\n",
       "      <th>9</th>\n",
       "      <td>Steve Ballmer</td>\n",
       "      <td>80.7</td>\n",
       "      <td>United States</td>\n",
       "      <td>Technology</td>\n",
       "    </tr>\n",
       "    <tr>\n",
       "      <th>11</th>\n",
       "      <td>Larry Page</td>\n",
       "      <td>79.2</td>\n",
       "      <td>United States</td>\n",
       "      <td>Technology</td>\n",
       "    </tr>\n",
       "    <tr>\n",
       "      <th>...</th>\n",
       "      <td>...</td>\n",
       "      <td>...</td>\n",
       "      <td>...</td>\n",
       "      <td>...</td>\n",
       "    </tr>\n",
       "    <tr>\n",
       "      <th>2642</th>\n",
       "      <td>Benoit Dageville</td>\n",
       "      <td>1.0</td>\n",
       "      <td>United States</td>\n",
       "      <td>Technology</td>\n",
       "    </tr>\n",
       "    <tr>\n",
       "      <th>2649</th>\n",
       "      <td>Du Yulin &amp; family</td>\n",
       "      <td>1.0</td>\n",
       "      <td>China</td>\n",
       "      <td>Technology</td>\n",
       "    </tr>\n",
       "    <tr>\n",
       "      <th>2650</th>\n",
       "      <td>Danilo Iervolino</td>\n",
       "      <td>1.0</td>\n",
       "      <td>Italy</td>\n",
       "      <td>Technology</td>\n",
       "    </tr>\n",
       "    <tr>\n",
       "      <th>2652</th>\n",
       "      <td>Scott Smith</td>\n",
       "      <td>1.0</td>\n",
       "      <td>United States</td>\n",
       "      <td>Technology</td>\n",
       "    </tr>\n",
       "    <tr>\n",
       "      <th>2654</th>\n",
       "      <td>Neerja Sethi</td>\n",
       "      <td>1.0</td>\n",
       "      <td>United States</td>\n",
       "      <td>Technology</td>\n",
       "    </tr>\n",
       "  </tbody>\n",
       "</table>\n",
       "<p>317 rows × 4 columns</p>\n",
       "</div>"
      ],
      "text/plain": [
       "                   name  net_worth_in_billion        country    industry\n",
       "2            Jeff Bezos                 114.0  United States  Technology\n",
       "3         Larry Ellison                 107.0  United States  Technology\n",
       "5            Bill Gates                 104.0  United States  Technology\n",
       "9         Steve Ballmer                  80.7  United States  Technology\n",
       "11           Larry Page                  79.2  United States  Technology\n",
       "...                 ...                   ...            ...         ...\n",
       "2642   Benoit Dageville                   1.0  United States  Technology\n",
       "2649  Du Yulin & family                   1.0          China  Technology\n",
       "2650   Danilo Iervolino                   1.0          Italy  Technology\n",
       "2652        Scott Smith                   1.0  United States  Technology\n",
       "2654       Neerja Sethi                   1.0  United States  Technology\n",
       "\n",
       "[317 rows x 4 columns]"
      ]
     },
     "execution_count": 120,
     "metadata": {},
     "output_type": "execute_result"
    }
   ],
   "source": [
    "df_bln[(df_bln['industry']=='Technology') | (df_bln['industry']=='technology')][['name','net_worth_in_billion','country','industry']]"
   ]
  },
  {
   "cell_type": "markdown",
   "id": "fd2ccdb9",
   "metadata": {},
   "source": []
  }
 ],
 "metadata": {
  "kernelspec": {
   "display_name": "Python 3 (ipykernel)",
   "language": "python",
   "name": "python3"
  },
  "language_info": {
   "codemirror_mode": {
    "name": "ipython",
    "version": 3
   },
   "file_extension": ".py",
   "mimetype": "text/x-python",
   "name": "python",
   "nbconvert_exporter": "python",
   "pygments_lexer": "ipython3",
   "version": "3.11.2"
  }
 },
 "nbformat": 4,
 "nbformat_minor": 5
}
